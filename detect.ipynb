{
 "cells": [
  {
   "cell_type": "markdown",
   "id": "500fb8f0",
   "metadata": {},
   "source": [
    "Detection sur des images"
   ]
  },
  {
   "cell_type": "code",
   "execution_count": 2,
   "id": "993fb0a6",
   "metadata": {},
   "outputs": [
    {
     "name": "stdout",
     "output_type": "stream",
     "text": [
      "\n",
      "0: 640x640 (no detections), 40.2ms\n",
      "1: 640x640 (no detections), 40.2ms\n",
      "Speed: 9.2ms preprocess, 40.2ms inference, 31.8ms postprocess per image at shape (1, 3, 640, 640)\n"
     ]
    }
   ],
   "source": [
    "from ultralytics import YOLO\n",
    "\n",
    "# Load a model\n",
    "model = YOLO(\"runs/detect/train/weights/best.pt\")  # pretrained YOLO11n model\n",
    "\n",
    "# Run batched inference on a list of images\n",
    "results = model([\"K:/Docs/stage_ingenieur/models/datas/cliches/pathologique/1.JPEG\", \"K:/Docs/stage_ingenieur/models/datas/cliches/pathologique/2.JPEG\"])  # return a list of Results objects\n",
    "\n",
    "# Process results list\n",
    "for result in results:\n",
    "    boxes = result.boxes  # Boxes object for bounding box outputs\n",
    "    masks = result.masks  # Masks object for segmentation masks outputs\n",
    "    keypoints = result.keypoints  # Keypoints object for pose outputs\n",
    "    probs = result.probs  # Probs object for classification outputs\n",
    "    obb = result.obb  # Oriented boxes object for OBB outputs\n",
    "    result.show()  # display to screen\n",
    "    result.save(filename=\"result.jpg\")  # save to disk"
   ]
  },
  {
   "cell_type": "markdown",
   "id": "60997d2e",
   "metadata": {},
   "source": [
    "prediction sur toutes les images locales"
   ]
  },
  {
   "cell_type": "code",
   "execution_count": 8,
   "id": "cb1bcc6e",
   "metadata": {},
   "outputs": [
    {
     "name": "stdout",
     "output_type": "stream",
     "text": [
      "\n",
      "0: 640x640 (no detections), 22.4ms\n",
      "1: 640x640 (no detections), 22.4ms\n",
      "2: 640x640 3 Pulmonary fibrosiss, 22.4ms\n",
      "3: 640x640 1 Pulmonary fibrosis, 22.4ms\n",
      "4: 640x640 (no detections), 22.4ms\n",
      "5: 640x640 (no detections), 22.4ms\n",
      "6: 640x640 1 Infiltration, 22.4ms\n",
      "7: 640x640 (no detections), 22.4ms\n",
      "8: 640x640 1 Cardiomegaly, 22.4ms\n",
      "9: 640x640 (no detections), 22.4ms\n",
      "10: 640x640 (no detections), 22.4ms\n",
      "11: 640x640 (no detections), 22.4ms\n",
      "12: 640x640 (no detections), 22.4ms\n",
      "13: 640x640 (no detections), 22.4ms\n",
      "14: 640x640 (no detections), 22.4ms\n",
      "15: 640x640 (no detections), 22.4ms\n",
      "16: 640x640 (no detections), 22.4ms\n",
      "17: 640x640 (no detections), 22.4ms\n",
      "18: 640x640 (no detections), 22.4ms\n",
      "Speed: 6.5ms preprocess, 22.4ms inference, 11.4ms postprocess per image at shape (1, 3, 640, 640)\n"
     ]
    }
   ],
   "source": [
    "import os\n",
    "from ultralytics import YOLO\n",
    "\n",
    "model = YOLO(\"runs/detect/train/weights/best.pt\")\n",
    "path = \"K:/codes/detection tuberculose avec YOLO/resultats\"\n",
    "os.makedirs(path, exist_ok=True)\n",
    "list = []\n",
    "\n",
    "\n",
    "def predict(dir):\n",
    "    for image in os.listdir(dir):\n",
    "        image_name = os.path.splitext(image)[0]\n",
    "        image_path = os.path.join(dir, image_name)+\".JPEG\"\n",
    "        list.append(image_path)\n",
    "    \n",
    "    results = model(list)\n",
    "    for result in results:\n",
    "        boxes = result.boxes  # Boxes object for bounding box outputs\n",
    "        masks = result.masks  # Masks object for segmentation masks outputs\n",
    "        keypoints = result.keypoints  # Keypoints object for pose outputs\n",
    "        probs = result.probs  # Probs object for classification outputs\n",
    "        obb = result.obb  # Oriented boxes object for OBB outputs\n",
    "        result.show()  # display to screen\n",
    "        result.save(filename=\"result.jpg\") \n",
    "    \n",
    "        \n",
    "        \n",
    "        \n",
    "\n",
    "dir = \"K:/Docs/stage_ingenieur/models/datas/cliches/pathologique\"\n",
    "predict(dir)"
   ]
  }
 ],
 "metadata": {
  "kernelspec": {
   "display_name": "virtual_env",
   "language": "python",
   "name": "python3"
  },
  "language_info": {
   "codemirror_mode": {
    "name": "ipython",
    "version": 3
   },
   "file_extension": ".py",
   "mimetype": "text/x-python",
   "name": "python",
   "nbconvert_exporter": "python",
   "pygments_lexer": "ipython3",
   "version": "3.13.5"
  }
 },
 "nbformat": 4,
 "nbformat_minor": 5
}
